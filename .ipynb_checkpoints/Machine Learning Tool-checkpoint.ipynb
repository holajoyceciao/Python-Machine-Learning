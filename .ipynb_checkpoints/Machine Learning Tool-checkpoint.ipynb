{
 "cells": [
  {
   "cell_type": "markdown",
   "id": "22988b00",
   "metadata": {},
   "source": [
    "## Tools"
   ]
  },
  {
   "cell_type": "markdown",
   "id": "a35cd833",
   "metadata": {},
   "source": [
    "### NumPy (Numerical Computing)\n",
    "\n",
    "<img src=\"resource/NumPy.png\" width=\"200px\"/>\n",
    "\n",
    "* Must have tool for doing machine learning\n",
    "* Helps developers to use lists and arrays in Python, specifically multidimensional arrays that is commonly used in Python\n",
    "\n",
    "`Multi-dimensional Array`\n",
    "<img src=\"resource/dimensional array.png\" width=\"650px\" />"
   ]
  },
  {
   "cell_type": "markdown",
   "id": "973354e0",
   "metadata": {},
   "source": [
    "### Pandas (Computing data in tables - data frame)\n",
    "\n",
    "<img src=\"resource/Pandas.png\" width=\"200px\"/>\n",
    "\n",
    "* In order to analyze data, it provides data frame that allows developers the functionality to manipulate data in tabular structure with rows and columns"
   ]
  },
  {
   "cell_type": "code",
   "execution_count": 12,
   "id": "ae8c4619",
   "metadata": {},
   "outputs": [
    {
     "data": {
      "text/html": [
       "<div>\n",
       "<style scoped>\n",
       "    .dataframe tbody tr th:only-of-type {\n",
       "        vertical-align: middle;\n",
       "    }\n",
       "\n",
       "    .dataframe tbody tr th {\n",
       "        vertical-align: top;\n",
       "    }\n",
       "\n",
       "    .dataframe thead th {\n",
       "        text-align: right;\n",
       "    }\n",
       "</style>\n",
       "<table border=\"1\" class=\"dataframe\">\n",
       "  <thead>\n",
       "    <tr style=\"text-align: right;\">\n",
       "      <th></th>\n",
       "      <th>PersonId</th>\n",
       "    </tr>\n",
       "  </thead>\n",
       "  <tbody>\n",
       "    <tr>\n",
       "      <th>0</th>\n",
       "      <td>1</td>\n",
       "    </tr>\n",
       "    <tr>\n",
       "      <th>1</th>\n",
       "      <td>2</td>\n",
       "    </tr>\n",
       "    <tr>\n",
       "      <th>2</th>\n",
       "      <td>3</td>\n",
       "    </tr>\n",
       "    <tr>\n",
       "      <th>3</th>\n",
       "      <td>4</td>\n",
       "    </tr>\n",
       "  </tbody>\n",
       "</table>\n",
       "</div>"
      ],
      "text/plain": [
       "   PersonId\n",
       "0         1\n",
       "1         2\n",
       "2         3\n",
       "3         4"
      ]
     },
     "execution_count": 12,
     "metadata": {},
     "output_type": "execute_result"
    }
   ],
   "source": [
    "import pandas as pd\n",
    "\n",
    "pd.DataFrame([1, 2, 3, 4], columns=['PersonId'])"
   ]
  },
  {
   "cell_type": "markdown",
   "id": "c4c0a6b5",
   "metadata": {},
   "source": [
    "### Matplotlib (Charting library)\n",
    "\n",
    "<img src=\"resource/matplotlib.png\" width=\"200px\" />\n",
    "\n",
    "* Allows developers to visualize data in different way"
   ]
  },
  {
   "cell_type": "markdown",
   "id": "2f6acfc3",
   "metadata": {},
   "source": [
    "### Scikit Learn (For ML)\n",
    "\n",
    "<img src=\"resource/Scikit Learn.png\" width=\"200px\" />\n",
    "\n",
    "* Allows developers using different prebuilt algorithms"
   ]
  },
  {
   "cell_type": "markdown",
   "id": "1e927ec7",
   "metadata": {},
   "source": [
    "### Jupyter notebook\n",
    "\n",
    "<img src=\"resource/jupyter.png\" width=\"200px\"/>\n",
    "\n",
    "* Allows developers to step through the code and output and keep track of it\n",
    "* Allows developers to see visualizations and share with others"
   ]
  },
  {
   "cell_type": "code",
   "execution_count": null,
   "id": "3a25075b",
   "metadata": {},
   "outputs": [],
   "source": []
  }
 ],
 "metadata": {
  "kernelspec": {
   "display_name": "Python [conda env:python_playground]",
   "language": "python",
   "name": "conda-env-python_playground-py"
  },
  "language_info": {
   "codemirror_mode": {
    "name": "ipython",
    "version": 3
   },
   "file_extension": ".py",
   "mimetype": "text/x-python",
   "name": "python",
   "nbconvert_exporter": "python",
   "pygments_lexer": "ipython3",
   "version": "3.9.15"
  }
 },
 "nbformat": 4,
 "nbformat_minor": 5
}

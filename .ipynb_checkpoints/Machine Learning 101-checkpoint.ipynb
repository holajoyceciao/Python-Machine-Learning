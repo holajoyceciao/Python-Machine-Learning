{
 "cells": [
  {
   "cell_type": "markdown",
   "id": "1a82b0f8",
   "metadata": {},
   "source": [
    "## Machine Learning 101"
   ]
  },
  {
   "cell_type": "markdown",
   "id": "a693a1f6",
   "metadata": {},
   "source": [
    "### Import the data\n",
    "\n",
    "* Simply import the data but it is the hardest one. The data is needed to be collected as much as possible to train the machine. "
   ]
  },
  {
   "cell_type": "markdown",
   "id": "4bc3573b",
   "metadata": {},
   "source": [
    "### Clean the data\n",
    "* When there are missing labels, cells and data or unusable data. In order to avoid any errors or make bad predictions, developers need to clean it before they use it later on."
   ]
  },
  {
   "cell_type": "markdown",
   "id": "ae199848",
   "metadata": {},
   "source": [
    "### Split data. Training Set/Test Set\n",
    "\n",
    "* Spliting the data into training set and test set. For instance, in 100 rows excel, 80 rows are for the training set which the machine can learn from. The last 20 rows are going to be the test set to see if the machine got the answer right or wrong."
   ]
  },
  {
   "cell_type": "markdown",
   "id": "ed6e63f2",
   "metadata": {},
   "source": [
    "### Create a Model\n",
    "\n",
    "* Create a model is to import an algorithm and developers don't write it from the scratch.\n",
    "* There are some library can be utilized, for example, Psych Learn and etc."
   ]
  },
  {
   "cell_type": "markdown",
   "id": "74a4d3d8",
   "metadata": {},
   "source": [
    "### Check the output \n",
    "\n",
    "* Checking whether the output matching the expectation or not"
   ]
  },
  {
   "cell_type": "markdown",
   "id": "55c56a40",
   "metadata": {},
   "source": [
    "### Improve\n",
    "\n",
    "* Give the machine extra inputs to improve the functions and accurate the output"
   ]
  },
  {
   "cell_type": "markdown",
   "id": "f839dfa1",
   "metadata": {},
   "source": [
    "### Example \n",
    "\n",
    "Facebook Machine Learning Process\n",
    "<img src=\"resource/Facebook ML process.png\" />"
   ]
  },
  {
   "cell_type": "code",
   "execution_count": null,
   "id": "15d7643d",
   "metadata": {},
   "outputs": [],
   "source": []
  }
 ],
 "metadata": {
  "kernelspec": {
   "display_name": "Python [conda env:python_playground]",
   "language": "python",
   "name": "conda-env-python_playground-py"
  },
  "language_info": {
   "codemirror_mode": {
    "name": "ipython",
    "version": 3
   },
   "file_extension": ".py",
   "mimetype": "text/x-python",
   "name": "python",
   "nbconvert_exporter": "python",
   "pygments_lexer": "ipython3",
   "version": "3.9.15"
  }
 },
 "nbformat": 4,
 "nbformat_minor": 5
}

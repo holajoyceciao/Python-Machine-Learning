{
 "cells": [
  {
   "cell_type": "markdown",
   "id": "cf1dd082",
   "metadata": {},
   "source": [
    "### Using ImageAI to predict images"
   ]
  },
  {
   "cell_type": "code",
   "execution_count": 2,
   "id": "348bdfc7",
   "metadata": {},
   "outputs": [
    {
     "name": "stdout",
     "output_type": "stream",
     "text": [
      "boathouse  :  97.1359\n",
      "mobile home  :  0.6925\n",
      "lakeside  :  0.5863\n",
      "beacon  :  0.431\n",
      "dam  :  0.1176\n"
     ]
    }
   ],
   "source": [
    "from imageai.Classification import ImageClassification\n",
    "import os\n",
    "\n",
    "execution_path = os.getcwd()\n",
    "\n",
    "# Using the MobileNetV2 to do the prediction\n",
    "prediction = ImageClassification()\n",
    "prediction.setModelTypeAsMobileNetV2()\n",
    "prediction.setModelPath(os.path.join(execution_path, \"mobilenet_v2-b0353104.pth\"))\n",
    "prediction.loadModel()\n",
    "\n",
    "# List the first 5 results of the prediction\n",
    "predictions, probabilities = prediction.classifyImage(os.path.join(execution_path, \"house.jpg\"), result_count=5 )\n",
    "for eachPrediction, eachProbability in zip(predictions, probabilities):\n",
    "    print(eachPrediction , \" : \" , eachProbability)"
   ]
  },
  {
   "cell_type": "code",
   "execution_count": 3,
   "id": "39c73075",
   "metadata": {},
   "outputs": [
    {
     "name": "stdout",
     "output_type": "stream",
     "text": [
      "boathouse  :  57.8629\n",
      "mobile home  :  13.2792\n",
      "beacon  :  12.5296\n",
      "planetarium  :  3.1539\n",
      "lakeside  :  2.7216\n"
     ]
    }
   ],
   "source": [
    "# Using the MobileNetV2 to do the prediction\n",
    "prediction = ImageClassification()\n",
    "prediction.setModelTypeAsResNet50()\n",
    "prediction.setModelPath(os.path.join(execution_path, \"resnet50-19c8e357.pth\"))\n",
    "prediction.loadModel()\n",
    "\n",
    "# List the first 5 results of the prediction\n",
    "predictions, probabilities = prediction.classifyImage(os.path.join(execution_path, \"house.jpg\"), result_count=5 )\n",
    "for eachPrediction, eachProbability in zip(predictions, probabilities):\n",
    "    print(eachPrediction , \" : \" , eachProbability)"
   ]
  },
  {
   "cell_type": "code",
   "execution_count": null,
   "id": "3981f6bc",
   "metadata": {},
   "outputs": [],
   "source": []
  }
 ],
 "metadata": {
  "kernelspec": {
   "display_name": "Python [conda env:python_playground]",
   "language": "python",
   "name": "conda-env-python_playground-py"
  },
  "language_info": {
   "codemirror_mode": {
    "name": "ipython",
    "version": 3
   },
   "file_extension": ".py",
   "mimetype": "text/x-python",
   "name": "python",
   "nbconvert_exporter": "python",
   "pygments_lexer": "ipython3",
   "version": "3.9.15"
  }
 },
 "nbformat": 4,
 "nbformat_minor": 5
}

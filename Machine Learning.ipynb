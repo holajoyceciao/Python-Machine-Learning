{
 "cells": [
  {
   "cell_type": "markdown",
   "id": "10ed476f",
   "metadata": {},
   "source": [
    "## Machine Learning\n",
    "\n",
    "<img src=\"resource/machine learning types.png\" width=\"450px\"/>\n",
    "\n",
    "* Machines received datas and make functions (the below second image)\n",
    "* Machine learning is to try learning from the data that precedes and predict something \n",
    "\n",
    "<img src=\"resource/Machine Learning.png\" width=\"450px\"/>\n"
   ]
  },
  {
   "cell_type": "markdown",
   "id": "46c22d61",
   "metadata": {},
   "source": [
    "### Data History\n",
    "\n",
    "In order to manage datas from spreadsheets, there was only one type of DBMS in the field that is relational DB. As the data became bigger and more complicated, developers created another types of DBMS to manage unrelated data called NoSQL (Big data). However, data is complicated, therefore, developers are trying to teach machines to edit and calculate data automatically with the old existing data. \n",
    "\n",
    "<img src=\"resource/data history.png\" width=\"400px\"/>"
   ]
  },
  {
   "cell_type": "markdown",
   "id": "002229ac",
   "metadata": {},
   "source": [
    "### Types of Machine Learning"
   ]
  },
  {
   "cell_type": "markdown",
   "id": "db05847a",
   "metadata": {},
   "source": [
    "#### Supervised\n",
    "\n",
    "* The data already has categories (rows and columns label in CSV files)\n",
    "* Two types of scenarios ( Classification & Regression )\n",
    "\n",
    "<img src=\"resource/regression vs classification.png\" width=\"500px\"/>\n",
    "\n",
    "`Classification`\n",
    "* Must be used with data that is **discrete** \n",
    "* Machine learning model draws a line to decide the categories\n",
    "\n",
    "`Regression`\n",
    "* Must be used with data that is **continuous** such as predicting stock prices\n",
    "\n",
    "<img src=\"resource/supervised machine learning.png\" width=\"500px\"/>"
   ]
  },
  {
   "cell_type": "markdown",
   "id": "253e394a",
   "metadata": {},
   "source": [
    "#### Unsupervised\n",
    "\n",
    "* The data doesn't have one of categories (neither rows or columns label in CSV files)\n",
    "* Developers or machines need to create groups or categories\n",
    "* Two types of scenarios ( Clustering & Assiciation Rule Learning )\n",
    "\n",
    "<img src=\"resource/unsupervised machine learning.png\" width=\"500px\"/>\n",
    "\n",
    "`Clustering`\n",
    "* Group things by similarities\n",
    "\n",
    "`Assiciation Rule Learning`\n",
    "* Find rules and patterns of things and group them together\n",
    "\n",
    "<img src=\"resource/clustering vs association.png\" width=\"500px\"/>"
   ]
  },
  {
   "cell_type": "markdown",
   "id": "9e4d1c71",
   "metadata": {},
   "source": [
    "#### Reinforcement\n",
    "* Teaching machines through trial and error, through rewards and punishment\n",
    "\n",
    "<img src=\"resource/reinforcement.png\" width=\"400px\" />"
   ]
  }
 ],
 "metadata": {
  "kernelspec": {
   "display_name": "Python [conda env:python_playground]",
   "language": "python",
   "name": "conda-env-python_playground-py"
  },
  "language_info": {
   "codemirror_mode": {
    "name": "ipython",
    "version": 3
   },
   "file_extension": ".py",
   "mimetype": "text/x-python",
   "name": "python",
   "nbconvert_exporter": "python",
   "pygments_lexer": "ipython3",
   "version": "3.9.15"
  }
 },
 "nbformat": 4,
 "nbformat_minor": 5
}

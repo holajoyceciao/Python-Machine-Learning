{
 "cells": [
  {
   "cell_type": "markdown",
   "id": "34ad0f70",
   "metadata": {},
   "source": [
    "## AI V.S. Data Science\n",
    "\n",
    "<img src=\"resource/differences of ml ai dl ds.png\" width=\"400px\"/>"
   ]
  },
  {
   "cell_type": "markdown",
   "id": "5fb0197e",
   "metadata": {},
   "source": [
    "### AI\n",
    "* A machine that acts like a human\n",
    "\n",
    "<img src=\"resource/AI.png\"/>"
   ]
  },
  {
   "cell_type": "markdown",
   "id": "0e7d4b7c",
   "metadata": {},
   "source": [
    "`Narrow AI`\n",
    "* Machines can only do one thing really well, they don't have multiple abilities\n",
    "* All Artificial Intelligences today are Narrow\n",
    "\n",
    "<img src=\"resource/narrow AI.png\" width=\"450px\"/>\n",
    "\n",
    "**Machine Learning**\n",
    "  * An approach to try and achieve AI through systems that can find patterns in a set of data (getting machines to do things w/o us specifically telling them)\n",
    "  * The science of getting computers to act w/o being explicitly programmed\n",
    "  \n",
    "**Deep Learning or Deep Neural networks**\n",
    "  * A techniques for implementing machine learning (a type of algorithm)"
   ]
  },
  {
   "cell_type": "markdown",
   "id": "47ace169",
   "metadata": {},
   "source": [
    "`General AI`\n",
    "* A performant as a human in perception tasks and is capable of reasoning"
   ]
  },
  {
   "cell_type": "markdown",
   "id": "1507e6cd",
   "metadata": {},
   "source": [
    "`Super AI`\n",
    "* An AI as performant as all humans combined"
   ]
  },
  {
   "cell_type": "markdown",
   "id": "73a50622",
   "metadata": {},
   "source": [
    "### Data Science\n",
    "\n",
    "* analyzing data, looking at data and then doing something with data\n",
    "\n",
    "<img src=\"resource/data science.png\" width=\"400px\"/>"
   ]
  },
  {
   "cell_type": "code",
   "execution_count": null,
   "id": "8276d3b7",
   "metadata": {},
   "outputs": [],
   "source": []
  }
 ],
 "metadata": {
  "kernelspec": {
   "display_name": "Python [conda env:python_playground]",
   "language": "python",
   "name": "conda-env-python_playground-py"
  },
  "language_info": {
   "codemirror_mode": {
    "name": "ipython",
    "version": 3
   },
   "file_extension": ".py",
   "mimetype": "text/x-python",
   "name": "python",
   "nbconvert_exporter": "python",
   "pygments_lexer": "ipython3",
   "version": "3.9.15"
  }
 },
 "nbformat": 4,
 "nbformat_minor": 5
}
